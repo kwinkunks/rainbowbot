{
 "cells": [
  {
   "cell_type": "markdown",
   "metadata": {},
   "source": [
    "#### Convert from RGB to Lab, get 32 unique triplets of L, a, b"
   ]
  },
  {
   "cell_type": "code",
   "execution_count": null,
   "metadata": {
    "collapsed": false
   },
   "outputs": [],
   "source": [
    "lab = rgb2lab(out1)\n",
    "\n",
    "print lab.shape"
   ]
  },
  {
   "cell_type": "code",
   "execution_count": null,
   "metadata": {
    "collapsed": true
   },
   "outputs": [],
   "source": []
  },
  {
   "cell_type": "code",
   "execution_count": null,
   "metadata": {
    "collapsed": true
   },
   "outputs": [],
   "source": []
  },
  {
   "cell_type": "code",
   "execution_count": null,
   "metadata": {
    "collapsed": true
   },
   "outputs": [],
   "source": []
  },
  {
   "cell_type": "markdown",
   "metadata": {},
   "source": [
    "I tried two methods that return the same result:\n",
    "\n",
    "1) get H, L, combine into 2D array, sort unique rows\n",
    "\n",
    "2) sort H, with index returned then sort L with index"
   ]
  },
  {
   "cell_type": "code",
   "execution_count": null,
   "metadata": {
    "collapsed": false
   },
   "outputs": [],
   "source": [
    "width, height, dump = np.shape(out2)\n",
    "print  width, height, dump"
   ]
  },
  {
   "cell_type": "code",
   "execution_count": null,
   "metadata": {
    "collapsed": false
   },
   "outputs": [],
   "source": [
    "# method 1\n",
    "# extract lightness and hue, combine them into a 2D array\n",
    "\n",
    "# extract\n",
    "from skimage.color import rgb2lab, lab2lch, lch2lab, lab2rgb\n",
    "lab = rgb2lab(out2)\n",
    "lch = lab2lch(lab)\n",
    "        \n",
    "lab = np.asarray(lab)\n",
    "lch = np.asarray(lch)\n",
    "\n",
    "\n",
    "# reshape\n",
    "pixels_lab = np.reshape(lab, (width*height, -1))\n",
    "l1, a, b = np.split(pixels_lab, 3, axis=-1)\n",
    "        \n",
    "pixels_lch = np.reshape(lch, (width*height, -1))\n",
    "l2, c, h = np.split(pixels_lch, 3, axis=-1)\n",
    " \n",
    "# flatten    \n",
    "import itertools\n",
    "lM = list(itertools.chain.from_iterable(l2))\n",
    "hM = list(itertools.chain.from_iterable(h))\n",
    "\n",
    "# zip together to make 2D numpy array\n",
    "lhM = np.asarray(zip(hM,lM))\n"
   ]
  },
  {
   "cell_type": "code",
   "execution_count": null,
   "metadata": {
    "collapsed": true
   },
   "outputs": [],
   "source": [
    "# Sorting unique rows\n",
    "# Joe Kington's answer on Stackoverflow: http://stackoverflow.com/a/16971224\n",
    "def unique_rows(data):\n",
    "    uniq = np.unique(data.view(data.dtype.descr * data.shape[1]))\n",
    "    return uniq.view(data.dtype).reshape(-1, data.shape[1])"
   ]
  },
  {
   "cell_type": "code",
   "execution_count": null,
   "metadata": {
    "collapsed": false
   },
   "outputs": [],
   "source": [
    "uniqLM = unique_rows(lhM)\n",
    "print np.shape(uniqLM)"
   ]
  },
  {
   "cell_type": "code",
   "execution_count": null,
   "metadata": {
    "collapsed": false
   },
   "outputs": [],
   "source": [
    "# method 2\n",
    "# sorting both lightness and hue by hue separately\n",
    "\n",
    "from skimage.color import rgb2lab, lab2lch, lch2lab, lab2rgb\n",
    "lab = rgb2lab(out2)\n",
    "lch = lab2lch(lab)\n",
    "        \n",
    "lab = np.asarray(lab)\n",
    "lch = np.asarray(lch)\n",
    "\n",
    "\n",
    "pixels_lab = np.reshape(lab, (width*height, -1))\n",
    "l1, a, b = np.split(pixels_lab, 3, axis=-1)\n",
    "        \n",
    "pixels_lch = np.reshape(lch, (width*height, -1))\n",
    "l2, c, h = np.split(pixels_lch, 3, axis=-1)\n",
    "                \n",
    "huniq, unidx = np.unique(h, return_index=True)\n",
    "luniq = l2[unidx]\n",
    "cuniq = c[unidx]\n",
    "\n",
    "# flatten luniq, cuniq\n",
    "import itertools \n",
    "luniqM = list(itertools.chain.from_iterable(luniq))\n",
    "cuniqM = list(itertools.chain.from_iterable(cuniq))"
   ]
  },
  {
   "cell_type": "code",
   "execution_count": null,
   "metadata": {
    "collapsed": false
   },
   "outputs": [],
   "source": [
    "# compare output of two methods\n",
    "lhM2 = np.asarray(zip(huniq,luniqM))\n",
    "print 'method 2'\n",
    "print '         H            L' \n",
    "print lhM2[:4]\n",
    "print lhM2[-4:]\n",
    "\n",
    "print 'method 1'\n",
    "print '         H            L' \n",
    "print uniqLM[:4]\n",
    "print uniqLM[-4:]"
   ]
  },
  {
   "cell_type": "code",
   "execution_count": null,
   "metadata": {
    "collapsed": false
   },
   "outputs": [],
   "source": [
    "np.shape(uniqLM)"
   ]
  },
  {
   "cell_type": "markdown",
   "metadata": {
    "collapsed": true
   },
   "source": [
    "#### Import a function to plot colored lines in the final plot using the colormap created above\n"
   ]
  },
  {
   "cell_type": "markdown",
   "metadata": {},
   "source": [
    "From David Sanders:\n",
    "https://github.com/dpsanders/matplotlib-examples/blob/master/colorline.ipynb"
   ]
  },
  {
   "cell_type": "code",
   "execution_count": null,
   "metadata": {
    "collapsed": true
   },
   "outputs": [],
   "source": [
    "from matplotlib.collections import LineCollection\n",
    "from matplotlib.colors import ListedColormap, BoundaryNorm\n",
    "\n",
    "\n",
    "# Data manipulation:\n",
    "\n",
    "def make_segments(x, y):\n",
    "    '''\n",
    "    Create list of line segments from x and y coordinates, in the correct format for LineCollection:\n",
    "    an array of the form   numlines x (points per line) x 2 (x and y) array\n",
    "    '''\n",
    "\n",
    "    points = np.array([x, y]).T.reshape(-1, 1, 2)\n",
    "    segments = np.concatenate([points[:-1], points[1:]], axis=1)\n",
    "    \n",
    "    return segments\n",
    "\n",
    "\n",
    "# Interface to LineCollection:\n",
    "\n",
    "def colorline(x, y, z=None, cmap=plt.get_cmap('copper'), norm=plt.Normalize(0.0, 1.0), linewidth=3, alpha=1.0):\n",
    "    '''\n",
    "    Plot a colored line with coordinates x and y\n",
    "    Optionally specify colors in the array z\n",
    "    Optionally specify a colormap, a norm function and a line width\n",
    "    '''\n",
    "    \n",
    "    # Default colors equally spaced on [0,1]:\n",
    "    if z is None:\n",
    "        z = np.linspace(0.0, 1.0, len(x))\n",
    "           \n",
    "    # Special case if a single number:\n",
    "    if not hasattr(z, \"__iter__\"):  # to check for numerical input -- this is a hack\n",
    "        z = np.array([z])\n",
    "        \n",
    "    z = np.asarray(z)\n",
    "    \n",
    "    segments = make_segments(x, y)\n",
    "    lc = LineCollection(segments, array=z, cmap=cmap, norm=norm, linewidth=linewidth, alpha=alpha)\n",
    "    \n",
    "    ax = plt.gca()\n",
    "    ax.add_collection(lc)\n",
    "    \n",
    "    return lc\n",
    "        \n",
    "    \n",
    "def clear_frame(ax=None): \n",
    "    # Taken from a post by Tony S Yu\n",
    "    if ax is None: \n",
    "        ax = plt.gca() \n",
    "    ax.xaxis.set_visible(False) \n",
    "    ax.yaxis.set_visible(False) \n",
    "    for spine in ax.spines.itervalues(): \n",
    "        spine.set_visible(False) "
   ]
  },
  {
   "cell_type": "markdown",
   "metadata": {},
   "source": [
    "#### Make final plot of the sorted hue, H versus lightness, L, colored by L"
   ]
  },
  {
   "cell_type": "code",
   "execution_count": null,
   "metadata": {
    "collapsed": false,
    "scrolled": true
   },
   "outputs": [],
   "source": [
    "# To color by L, it has to be normalized to [0 1]\n",
    "luniqM_n=(luniqM-min(luniqM))/(max(luniqM)-min(luniqM))\n",
    "\n",
    "fig = plt.figure(figsize=(8,4))\n",
    "plt.xticks(np.arange(0, 2.25*np.pi,0.25*np.pi),[0.,   45.,   90.,  135.,  180.,  225.,  270.,  315., 360.]) \n",
    "# Hue as 0-360 angle\n",
    "\n",
    "ax1 = fig.add_subplot(111)\n",
    "\n",
    "# ax1.scatter(huniq, luniq)\n",
    "colorline(huniq,luniqM, luniqM_n, linewidth=4,cmap='gray')\n",
    "ax1.set_xlim(0, 2.25*np.pi)\n",
    "ax1.set_ylim(-5, 105)\n",
    "ax1.text(5, 95, 'H vs. L - colored by L', va='top')\n",
    "plt.show()"
   ]
  },
  {
   "cell_type": "code",
   "execution_count": null,
   "metadata": {
    "collapsed": true
   },
   "outputs": [],
   "source": [
    "cmaps = ['Blues', 'BuGn', 'BuPu','GnBu', 'Greens', 'Greys', 'Oranges', 'OrRd','PuBu', 'PuBuGn', 'PuRd',\n",
    "         'Purples', 'RdPu','Reds', 'YlGn', 'YlGnBu', 'YlOrBr', 'YlOrRd','afmhot', 'autumn', 'bone', 'cool',\n",
    "         'copper', 'gist_heat', 'gray', 'hot','pink', 'spring', 'summer', 'winter','BrBG', 'bwr', 'coolwarm',\n",
    "         'PiYG', 'PRGn', 'PuOr', 'RdBu', 'RdGy', 'RdYlBu', 'RdYlGn', 'Spectral','seismic', 'Accent', 'Dark2',\n",
    "         'Paired', 'Pastel1','Pastel2', 'Set1', 'Set2', 'Set3', 'gist_earth', 'terrain', 'ocean', 'gist_stern',\n",
    "         'brg', 'CMRmap', 'cubehelix', 'gnuplot', 'gnuplot2', 'gist_ncar', 'nipy_spectral', 'jet', 'rainbow',\n",
    "         'gist_rainbow', 'hsv', 'flag', 'prism']"
   ]
  },
  {
   "cell_type": "markdown",
   "metadata": {},
   "source": [
    "Next two cells are a test of syntax"
   ]
  },
  {
   "cell_type": "code",
   "execution_count": null,
   "metadata": {
    "collapsed": false
   },
   "outputs": [],
   "source": [
    "import skimage.color as skl\n",
    "import matplotlib.cm as cm\n",
    "import matplotlib.colors as clr\n",
    "\n",
    "sz = np.amax(np.shape(uniqLM))\n",
    "mp=np.arange(sz)\n",
    "             \n",
    "my_map = cm.get_cmap('jet') \n",
    "normmap = clr.Normalize(0, sz) \n",
    "colmap = my_map(normmap(mp))\n",
    "rm = np.tile(colmap[:,0], (sz,1))\n",
    "gm = np.tile(colmap[:,1], (sz,1))\n",
    "bm = np.tile(colmap[:,2], (sz,1))\n",
    "rgb_mp = np.array(zip(rm, gm ,bm))\n",
    "rgb_map = np.swapaxes(rgb_mp,1,2) # This is a 256 rows by 256 columns image in which each row is a \n",
    "                                      # 256-sample colormap.\n",
    "\n",
    "\n",
    "lab_map = skl.rgb2lab(rgb_map)\n",
    "lch_map = skl.lab2lch(lab_map)\n",
    "\n",
    "print np.shape(lch_map)"
   ]
  },
  {
   "cell_type": "code",
   "execution_count": null,
   "metadata": {
    "collapsed": false
   },
   "outputs": [],
   "source": [
    "hl_map = np.asarray(zip(lch_map[0,:,2],lch_map[0,:,0]))\n",
    "\n",
    "print '         H            L' \n",
    "print hl_map[:4]\n",
    "print hl_map[-4:]\n"
   ]
  },
  {
   "cell_type": "code",
   "execution_count": null,
   "metadata": {
    "collapsed": true
   },
   "outputs": [],
   "source": [
    "# From my tutorial:\n",
    "# https://github.com/seg/tutorials/blob/master/1408_Evaluate_and_compare_colormaps/How_to_evaluate_and_compare_colormaps.ipynb\n",
    "\n",
    "mp=np.arange(np.amax(np.shape(uniqLM))) \n",
    "import skimage.color as skl\n",
    "             import matplotlib.cm as cm\n",
    "import matplotlib.colors as clr\n",
    "\n",
    "for m in cmaps:\n",
    "    sz = np.amax(np.shape(uniqLM))\n",
    "    mp=np.arange(sz)\n",
    "             \n",
    "    my_map = cm.get_cmap('jet') \n",
    "    normmap = clr.Normalize(0, sz) \n",
    "    colmap = my_map(normmap(mp))\n",
    "    rm = np.tile(colmap[:,0], (sz,1))\n",
    "    gm = np.tile(colmap[:,1], (sz,1))\n",
    "    bm = np.tile(colmap[:,2], (sz,1))\n",
    "    rgb_mp = np.array(zip(rm, gm ,bm))\n",
    "    rgb_map = np.swapaxes(rgb_mp,1,2) # This is a 256 rows by 256 columns image in which each row is a \n",
    "                                      # 256-sample colormap.\n",
    "\n",
    "\n",
    "    lab_map = skl.rgb2lab(rgb_map)\n",
    "    lch_map = skl.lab2lch(lab_map)\n",
    "    hl_map = np.asarray(zip(lch_map[0,:,2],lch_map[0,:,0]))\n",
    "    \n",
    "##  # enter here comparison similar to below"
   ]
  },
  {
   "cell_type": "code",
   "execution_count": null,
   "metadata": {
    "collapsed": true
   },
   "outputs": [],
   "source": []
  },
  {
   "cell_type": "markdown",
   "metadata": {},
   "source": [
    "http://numpy-discussion.10968.n7.nabble.com/Minimum-distance-between-2-paths-in-3D-td15677.html"
   ]
  },
  {
   "cell_type": "code",
   "execution_count": null,
   "metadata": {
    "collapsed": true
   },
   "outputs": [],
   "source": []
  },
  {
   "cell_type": "code",
   "execution_count": null,
   "metadata": {
    "collapsed": true
   },
   "outputs": [],
   "source": []
  }
 ],
 "metadata": {
  "kernelspec": {
   "display_name": "Python 2",
   "language": "python",
   "name": "python2"
  },
  "language_info": {
   "codemirror_mode": {
    "name": "ipython",
    "version": 2
   },
   "file_extension": ".py",
   "mimetype": "text/x-python",
   "name": "python",
   "nbconvert_exporter": "python",
   "pygments_lexer": "ipython2",
   "version": "2.7.11"
  }
 },
 "nbformat": 4,
 "nbformat_minor": 0
}
